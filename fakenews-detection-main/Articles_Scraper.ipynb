{
 "cells": [
  {
   "cell_type": "markdown",
   "id": "9d293d05",
   "metadata": {},
   "source": [
    "## Automate news article collection for training the model using web scraper "
   ]
  },
  {
   "cell_type": "markdown",
   "id": "8f5023ad",
   "metadata": {},
   "source": [
    "#### Import libraries for web scraping"
   ]
  },
  {
   "cell_type": "code",
   "execution_count": 9,
   "id": "3def005f",
   "metadata": {},
   "outputs": [],
   "source": [
    "from bs4 import BeautifulSoup\n",
    "from urllib.request import Request, urlopen"
   ]
  },
  {
   "cell_type": "markdown",
   "id": "2d1c263f",
   "metadata": {},
   "source": [
    "In this example, we demonstrate web scraping of news articles on the web application **Factly**. You can use any application of your choice"
   ]
  },
  {
   "cell_type": "code",
   "execution_count": 10,
   "id": "b39bda86",
   "metadata": {},
   "outputs": [],
   "source": [
    "url = \"https://www.factchecker.in/fact-check\"\n",
    "req = Request(url, headers={'User-Agent': 'Mozilla/5.0'})\n",
    "webpage = urlopen(req)"
   ]
  },
  {
   "cell_type": "code",
   "execution_count": 11,
   "id": "30122e6c",
   "metadata": {},
   "outputs": [],
   "source": [
    "html = webpage.read().decode(\"utf-8\")\n",
    "soup = BeautifulSoup(html, \"html.parser\")"
   ]
  },
  {
   "cell_type": "markdown",
   "id": "1bc72462",
   "metadata": {},
   "source": [
    "The HTML document of the page was analysed and as a result the below logic is applied to scrape the articles."
   ]
  },
  {
   "cell_type": "code",
   "execution_count": 12,
   "id": "30648cef",
   "metadata": {},
   "outputs": [
    {
     "ename": "AttributeError",
     "evalue": "'NoneType' object has no attribute 'fact_check'",
     "output_type": "error",
     "traceback": [
      "\u001b[1;31m---------------------------------------------------------------------------\u001b[0m",
      "\u001b[1;31mAttributeError\u001b[0m                            Traceback (most recent call last)",
      "\u001b[1;32m~\\AppData\\Local\\Temp\\ipykernel_19328\\805090197.py\u001b[0m in \u001b[0;36m<module>\u001b[1;34m\u001b[0m\n\u001b[1;32m----> 1\u001b[1;33m \u001b[0marticles\u001b[0m \u001b[1;33m=\u001b[0m \u001b[1;33m[\u001b[0m\u001b[0marticle\u001b[0m\u001b[1;33m.\u001b[0m\u001b[0mfind\u001b[0m\u001b[1;33m(\u001b[0m\u001b[1;34m\"h2\"\u001b[0m\u001b[1;33m)\u001b[0m\u001b[1;33m.\u001b[0m\u001b[0mfind\u001b[0m\u001b[1;33m(\u001b[0m\u001b[1;34m\"a\"\u001b[0m\u001b[1;33m)\u001b[0m\u001b[1;33m.\u001b[0m\u001b[0mget\u001b[0m\u001b[1;33m(\u001b[0m\u001b[1;34m\"href\"\u001b[0m\u001b[1;33m)\u001b[0m \u001b[1;32mfor\u001b[0m \u001b[0marticle\u001b[0m \u001b[1;32min\u001b[0m \u001b[0msoup\u001b[0m\u001b[1;33m.\u001b[0m\u001b[0mfind\u001b[0m\u001b[1;33m(\u001b[0m\u001b[0mclass_\u001b[0m \u001b[1;33m=\u001b[0m \u001b[1;34m\"col-8 main-content\"\u001b[0m\u001b[1;33m)\u001b[0m\u001b[1;33m.\u001b[0m\u001b[0mfact_check\u001b[0m\u001b[1;33m(\u001b[0m\u001b[1;34m\"article\"\u001b[0m\u001b[1;33m)\u001b[0m\u001b[1;33m]\u001b[0m\u001b[1;33m\u001b[0m\u001b[1;33m\u001b[0m\u001b[0m\n\u001b[0m",
      "\u001b[1;31mAttributeError\u001b[0m: 'NoneType' object has no attribute 'fact_check'"
     ]
    }
   ],
   "source": [
    "articles = [article.find(\"h2\").find(\"a\").get(\"href\") for article in soup.find(class_ = \"col-8 main-content\").fact_check(\"article\")]"
   ]
  },
  {
   "cell_type": "code",
   "execution_count": null,
   "id": "e2ddbe7d",
   "metadata": {},
   "outputs": [],
   "source": [
    "articles"
   ]
  },
  {
   "cell_type": "code",
   "execution_count": null,
   "id": "7e171eaf",
   "metadata": {
    "scrolled": false
   },
   "outputs": [],
   "source": [
    "for article_url in articles:\n",
    "    if \"review:\" not in article_url and \"data:\" not in article_url and \"explainer:\" not in article_url:\n",
    "        article_req = Request(article_url, headers={'User-Agent': 'Mozilla/5.0'})\n",
    "        article_page = urlopen(article_req)\n",
    "        article_html = article_page.read().decode(\"utf-8\")\n",
    "        article_soup = BeautifulSoup(article_html, \"html.parser\")\n",
    "        article_content = article_soup.find(class_ = \"post-content-right\").get_text()\n",
    "        article_nature = article_soup.find(\"blockquote\").find_all(\"strong\")[2].get_text()\n",
    "        print(f\"Article: \\n{article_content}\\n\")\n",
    "        print(f\"Nature of the article: {article_nature}\")\n",
    "        print(\"\\n\\n\")"
   ]
  },
  {
   "cell_type": "code",
   "execution_count": null,
   "id": "83f47455",
   "metadata": {},
   "outputs": [],
   "source": []
  }
 ],
 "metadata": {
  "kernelspec": {
   "display_name": "Python 3 (ipykernel)",
   "language": "python",
   "name": "python3"
  },
  "language_info": {
   "codemirror_mode": {
    "name": "ipython",
    "version": 3
   },
   "file_extension": ".py",
   "mimetype": "text/x-python",
   "name": "python",
   "nbconvert_exporter": "python",
   "pygments_lexer": "ipython3",
   "version": "3.7.6"
  }
 },
 "nbformat": 4,
 "nbformat_minor": 5
}
